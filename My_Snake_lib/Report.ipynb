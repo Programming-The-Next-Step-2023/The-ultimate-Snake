{
 "cells": [
  {
   "attachments": {},
   "cell_type": "markdown",
   "metadata": {},
   "source": [
    "# The ultimate Vignette to The ultimate Snake"
   ]
  },
  {
   "attachments": {},
   "cell_type": "markdown",
   "metadata": {},
   "source": [
    "#### Introductory Text\n",
    "\n",
    "##### The Screen (add picture below with the empty screen)"
   ]
  },
  {
   "cell_type": "code",
   "execution_count": 3,
   "metadata": {},
   "outputs": [],
   "source": [
    "# import the packages and modules we will need for the game\n",
    "import turtle\n",
    "import time\n",
    "import random \n",
    "from PIL import Image\n",
    "\n",
    "# setup the screen for your game\n",
    "screen = turtle.Screen()\n",
    "screen.title(\"The ultimate Snake\")\n",
    "screen.setup(width = 700, height = 700)\n",
    "screen.tracer(0)\n",
    "screen.bgcolor(\"#1d1d1d\")\n",
    "\n",
    "### draw the borders for your game\n",
    "turtle.speed(5)\n",
    "turtle.pensize(4)\n",
    "turtle.penup()\n",
    "turtle.goto(-300,250)\n",
    "turtle.pendown()\n",
    "turtle.color(\"red\")\n",
    "turtle.forward(600)\n",
    "turtle.right(90)\n",
    "turtle.forward(500)\n",
    "turtle.right(90)\n",
    "turtle.forward(600)\n",
    "turtle.right(90)\n",
    "turtle.forward(500)\n",
    "turtle.penup()\n",
    "turtle.hideturtle()\n",
    "\n",
    "# score\n",
    "score = 0;\n",
    "delay = 0.1\n",
    "\n"
   ]
  },
  {
   "attachments": {},
   "cell_type": "markdown",
   "metadata": {},
   "source": [
    "##### The Snake\n",
    "###### Let's get into business. When we talk about a good game of snake, what do we need most of all...?\n",
    "###### What out though, this is not the typical game of snake you may have expected... Afterall, remember what module we are using."
   ]
  },
  {
   "cell_type": "code",
   "execution_count": 8,
   "metadata": {},
   "outputs": [],
   "source": [
    "### draw the snake \n",
    "snake = turtle.Turtle()\n",
    "snake.speed()\n",
    "snake.color(\"green\", \"red\")\n",
    "snake.shape(\"turtle\") # different to vid\n",
    "snake.shapesize(2,2,2)\n",
    "snake.penup()\n",
    "snake.goto(0,0)\n",
    "snake.direction = 'stop'"
   ]
  },
  {
   "attachments": {},
   "cell_type": "markdown",
   "metadata": {},
   "source": [
    "##### The Food (add that image of food needs to be downloaded into package folder)\n",
    "###### It's a TURTLE! Badabammmm. \n",
    "###### Okay, what now? We don't want our turtle to die from hunger right, so google what sea turtles eat before you feed it just anything. I did. And since a simple square or circle shape would make our sea turtle really not enjoy its food very much, we register our own food idea, how about that! Make sure to give it a nice size so it won't overwhelm your turtle."
   ]
  },
  {
   "cell_type": "code",
   "execution_count": 9,
   "metadata": {},
   "outputs": [],
   "source": [
    "# Register the image as a shape\n",
    "from PIL import Image\n",
    "sponge_b = \"Sponge1.gif\"  # Replace with your image file name\n",
    "# Resize the image\n",
    "width, height = 30, 30  # Replace with your desired dimensions\n",
    "sponge1 = Image.open(sponge_b)\n",
    "resized_sponge1 = sponge1.resize((width, height))\n",
    "resized_sponge1_path = \"small_Sponge_black.gif\"  # Replace with the desired output file path\n",
    "resized_sponge1.save(resized_sponge1_path)\n",
    "screen.register_shape(resized_sponge1_path)\n",
    "\n",
    "# create the food\n",
    "food = turtle.Turtle()\n",
    "food.speed(0)\n",
    "food.shape(resized_sponge1_path)\n",
    "food.penup()\n",
    "# pro: random start position\n",
    "food.goto(50,50)"
   ]
  },
  {
   "attachments": {},
   "cell_type": "markdown",
   "metadata": {},
   "source": [
    "##### The Score\n",
    "###### "
   ]
  },
  {
   "cell_type": "code",
   "execution_count": 10,
   "metadata": {},
   "outputs": [],
   "source": [
    "# score\n",
    "scoring = turtle.Turtle()\n",
    "scoring.speed(0)\n",
    "scoring.color(\"white\")\n",
    "scoring.penup()\n",
    "scoring.hideturtle()\n",
    "scoring.goto(0,300)\n",
    "scoring.write(\"Score: \", align=\"center\", font=(\"Courier\", 24,\"bold\"))"
   ]
  },
  {
   "attachments": {},
   "cell_type": "markdown",
   "metadata": {},
   "source": [
    "##### Moving the Turtle\n",
    "###### Get some functions in there! We want our Snake, sorry, our Turtle, be able to move towards the food don't we. And, for it to be an actual interesting game, we need to BECOME the Turtle. So, let's make the screen listen to our keyboard and get moving. "
   ]
  },
  {
   "cell_type": "code",
   "execution_count": 2,
   "metadata": {},
   "outputs": [],
   "source": [
    "def up():\n",
    "    '''\n",
    "    Function that takes no arguments. Checks that snake can only move in steps of 90 degrees.\n",
    "    '''\n",
    "    if snake.heading() !=270:\n",
    "        snake.setheading(90)\n",
    "\n",
    "def down():\n",
    "    if snake.heading() != 90:\n",
    "        snake.setheading(270)\n",
    "\n",
    "def left():\n",
    "    if snake.heading() != 0:\n",
    "        snake.setheading(180)\n",
    "\n",
    "def right():\n",
    "    if snake.heading() != 180:\n",
    "        snake.setheading(0)\n",
    "\n",
    "    \n"
   ]
  },
  {
   "cell_type": "code",
   "execution_count": 8,
   "metadata": {},
   "outputs": [
    {
     "ename": "NameError",
     "evalue": "name 'screen' is not defined",
     "output_type": "error",
     "traceback": [
      "\u001b[1;31m---------------------------------------------------------------------------\u001b[0m",
      "\u001b[1;31mNameError\u001b[0m                                 Traceback (most recent call last)",
      "Cell \u001b[1;32mIn[8], line 2\u001b[0m\n\u001b[0;32m      1\u001b[0m \u001b[39m# call the screen to 'listen' to the keyboard\u001b[39;00m\n\u001b[1;32m----> 2\u001b[0m screen\u001b[39m.\u001b[39mlisten()\n\u001b[0;32m      3\u001b[0m screen\u001b[39m.\u001b[39monkey(up, \u001b[39m'\u001b[39m\u001b[39mUp\u001b[39m\u001b[39m'\u001b[39m)\n\u001b[0;32m      4\u001b[0m screen\u001b[39m.\u001b[39monkey(down, \u001b[39m'\u001b[39m\u001b[39mDown\u001b[39m\u001b[39m'\u001b[39m)\n",
      "\u001b[1;31mNameError\u001b[0m: name 'screen' is not defined"
     ]
    }
   ],
   "source": [
    "# call the screen to 'listen' to the keyboard\n",
    "screen.listen()\n",
    "screen.onkey(up, 'Up')\n",
    "screen.onkey(down, 'Down')\n",
    "screen.onkey(left, 'Left')\n",
    "screen.onkey(right, 'Right')\n",
    "\n",
    "time.sleep(10)"
   ]
  },
  {
   "attachments": {},
   "cell_type": "markdown",
   "metadata": {},
   "source": [
    "##### The real deal - building the loop\n",
    "###### text"
   ]
  },
  {
   "cell_type": "code",
   "execution_count": null,
   "metadata": {},
   "outputs": [],
   "source": [
    "# main loop\n",
    "while True:\n",
    "    screen.update()\n",
    "\n",
    "    # snake and food collision\n",
    "    if snake.distance(food) < 20:\n",
    "        x = random.randint(-260, 260)\n",
    "        y = random.randint(-240, 240)\n",
    "        food.goto(x, y)\n",
    "        scoring.clear()\n",
    "        score += 1\n",
    "        scoring.write(\"Score: {}\".format(score), align=\"center\", font=(\"Courier\", 24,\"bold\"))\n",
    "        delay -= 0.005 # no endless reduction in delays / with new turtle delay increases again \n",
    "\n",
    "    # snake & border collision\n",
    "    if snake.xcor() > 280 or snake.xcor() < -280 or snake.ycor() > 230 or snake.ycor() < -230:\n",
    "        time.sleep(1)\n",
    "        screen.clear()\n",
    "        screen.bgcolor(\"blue\")\n",
    "        scoring.goto(0,0)\n",
    "        scoring.write(\"   Game Over \\n Your Score is {}\".format(score),align=\"center\", font=(\"Courier\", 30,\"bold\"))\n",
    "    snake.forward(8)\n",
    "\n",
    "    time.sleep(delay)\n",
    "\n",
    "turtle.Terminator()"
   ]
  }
 ],
 "metadata": {
  "kernelspec": {
   "display_name": "Python 3",
   "language": "python",
   "name": "python3"
  },
  "language_info": {
   "codemirror_mode": {
    "name": "ipython",
    "version": 3
   },
   "file_extension": ".py",
   "mimetype": "text/x-python",
   "name": "python",
   "nbconvert_exporter": "python",
   "pygments_lexer": "ipython3",
   "version": "3.11.3"
  },
  "orig_nbformat": 4
 },
 "nbformat": 4,
 "nbformat_minor": 2
}
